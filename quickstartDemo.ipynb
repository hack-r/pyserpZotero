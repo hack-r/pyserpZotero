{
 "cells": [
  {
   "cell_type": "code",
   "execution_count": 1,
   "id": "d27d8476-b0d8-49e8-b9a1-9cf6e202dd46",
   "metadata": {},
   "outputs": [],
   "source": [
    "# Load libraries\n",
    "\n",
    "import re\n",
    "\n",
    "import yaml\n",
    "from box import Box\n",
    "\n",
    "## strip latex from title using pylatexenc\n",
    "from pylatexenc.latex2text import LatexNodes2Text\n",
    "\n",
    "from pyserpZotero.pyserpZotero import clean_mml, serpZot\n",
    "\n",
    "# importlib.reload(pyserpZotero) # For development only"
   ]
  },
  {
   "cell_type": "code",
   "execution_count": 2,
   "id": "7a3b5bb3-3234-4629-993d-898030899756",
   "metadata": {},
   "outputs": [],
   "source": [
    "# Load a YAML with the following 3 values (Optional)\n",
    "with open(\"pyserpZotero/config.yaml\", \"r\") as ymlfile:\n",
    "    cfg = Box(yaml.safe_load(ymlfile), default_box=True, default_box_attr=None)\n",
    "\n",
    "API_KEY = cfg.API_KEY\n",
    "ZOT_ID = cfg.ZOT_ID\n",
    "ZOT_KEY = cfg.ZOT_KEY"
   ]
  },
  {
   "cell_type": "code",
   "execution_count": 3,
   "id": "753aa58d-d8b9-4a39-8847-102b8621185d",
   "metadata": {},
   "outputs": [
    {
     "name": "stdout",
     "output_type": "stream",
     "text": [
      "Reminder: Make sure your Zotero key has write permissions.\n"
     ]
    }
   ],
   "source": [
    "# Instantiate a serpZot object for API management\n",
    "citeObj = serpZot(\n",
    "    API_KEY=API_KEY,\n",
    "    ZOT_ID=ZOT_ID,\n",
    "    ZOT_KEY=ZOT_KEY,\n",
    "    DOWNLOAD_DEST=\".\",  # Optional (for destinations other than the current directory)\n",
    ")"
   ]
  },
  {
   "cell_type": "code",
   "execution_count": 4,
   "id": "793f197a",
   "metadata": {},
   "outputs": [
    {
     "data": {
      "text/plain": [
       "'\\nOrder of methods to use:\\n1. citeObj.searchShcoolar()\\n2. citeObj.convert_ris_to_apa_citation()\\n3. citeObj.make_bib_from_apa_cross_ref()\\n'"
      ]
     },
     "execution_count": 4,
     "metadata": {},
     "output_type": "execute_result"
    }
   ],
   "source": [
    "\"\"\"\n",
    "Order of methods to use:\n",
    "1. citeObj.searchShcoolar()\n",
    "2. citeObj.convert_ris_to_apa_citation()\n",
    "3. citeObj.make_bib_from_apa_cross_ref()\n",
    "\"\"\""
   ]
  },
  {
   "cell_type": "code",
   "execution_count": 5,
   "id": "958eeb00-0489-4261-b773-d7f407bc1dbe",
   "metadata": {},
   "outputs": [
    {
     "name": "stdout",
     "output_type": "stream",
     "text": [
      "Search results saved to scholar_search_results.json.\n"
     ]
    }
   ],
   "source": [
    "# # Call the search method\n",
    "\n",
    "citeObj.searchScholar(TERM=\"Riemann Hypothesis\", MIN_YEAR=\"2020\")\n",
    "# print(\"This should've returned 0 (sucess)\")\n",
    "\n",
    "# # format print to overwrite the previous line"
   ]
  },
  {
   "cell_type": "code",
   "execution_count": 6,
   "id": "357f4bdb",
   "metadata": {},
   "outputs": [
    {
     "name": "stdout",
     "output_type": "stream",
     "text": [
      "Now processing: tI7WGgIa8z4J\n",
      "Now processing: _tK9UKtlPf8J\n",
      "Now processing: OWhdnYLOgosJ\n",
      "All citations saved to all_google_api_citations.json\n",
      "Wrote entry to file. Loop number: 0\n",
      "Wrote entry to file. Loop number: 1\n",
      "Wrote entry to file. Loop number: 2\n",
      "Saved bibtext to auto_cite.bib\n",
      "entry_dict_list: [{'publicationTitle': 'Bulletin of the London Mathematical Society', 'title': 'The Riemann hypothesis is true up to 3$\\\\cdotp$1012', 'issue': '3', 'volume': '53', 'url': 'https://doi.org/10.1112%2Fblms.12460', 'DOI': '10.1112/blms.12460', 'itemType': 'journalArticle', 'accessDate': '2023-02-21'}, {'publicationTitle': 'Indian Journal of Pure and Applied Mathematics', 'title': 'A note on series equivalent of the Riemann hypothesis', 'url': 'https://doi.org/10.1007%2Fs13226-022-00237-6', 'DOI': '10.1007/s13226-022-00237-6', 'itemType': 'journalArticle', 'accessDate': '2023-02-21'}, {'publicationTitle': 'Reports on Progress in Physics', 'title': 'Will a physicist prove the Riemann hypothesis?', 'issue': '3', 'volume': '83', 'url': 'https://doi.org/10.1088%2F1361-6633%2Fab3de7', 'DOI': '10.1088/1361-6633/ab3de7', 'itemType': 'journalArticle', 'accessDate': '2023-02-21'}]\n",
      "{'publicationTitle': 'Bulletin of the London Mathematical Society', 'title': 'The Riemann hypothesis is true up to 3$\\\\cdotp$1012', 'issue': '3', 'volume': '53', 'url': 'https://doi.org/10.1112%2Fblms.12460', 'DOI': '10.1112/blms.12460', 'itemType': 'journalArticle', 'accessDate': '2023-02-21'}\n",
      "{'publicationTitle': 'Indian Journal of Pure and Applied Mathematics', 'title': 'A note on series equivalent of the Riemann hypothesis', 'url': 'https://doi.org/10.1007%2Fs13226-022-00237-6', 'DOI': '10.1007/s13226-022-00237-6', 'itemType': 'journalArticle', 'accessDate': '2023-02-21'}\n",
      "{'publicationTitle': 'Reports on Progress in Physics', 'title': 'Will a physicist prove the Riemann hypothesis?', 'issue': '3', 'volume': '83', 'url': 'https://doi.org/10.1088%2F1361-6633%2Fab3de7', 'DOI': '10.1088/1361-6633/ab3de7', 'itemType': 'journalArticle', 'accessDate': '2023-02-21'}\n"
     ]
    }
   ],
   "source": [
    "citeObj.search2Zotero()"
   ]
  },
  {
   "cell_type": "code",
   "execution_count": 22,
   "id": "f4efb9ca",
   "metadata": {},
   "outputs": [
    {
     "name": "stdout",
     "output_type": "stream",
     "text": [
      "entry_dict_list: [{'publicationTitle': 'Bulletin of the London Mathematical Society', 'title': 'The Riemann hypothesis is true up to 3$\\\\cdotp$1012', 'issue': '3', 'volume': '53', 'url': 'https://doi.org/10.1112%2Fblms.12460', 'DOI': '10.1112/blms.12460', 'itemType': 'journalArticle', 'accessDate': '2023-02-21'}, {'publicationTitle': 'Indian Journal of Pure and Applied Mathematics', 'title': 'A note on series equivalent of the Riemann hypothesis', 'url': 'https://doi.org/10.1007%2Fs13226-022-00237-6', 'DOI': '10.1007/s13226-022-00237-6', 'itemType': 'journalArticle', 'accessDate': '2023-02-21'}, {'publicationTitle': 'Reports on Progress in Physics', 'title': 'Will a physicist prove the Riemann hypothesis?', 'issue': '3', 'volume': '83', 'url': 'https://doi.org/10.1088%2F1361-6633%2Fab3de7', 'DOI': '10.1088/1361-6633/ab3de7', 'itemType': 'journalArticle', 'accessDate': '2023-02-21'}]\n",
      "{'publicationTitle': 'Bulletin of the London Mathematical Society', 'title': 'The Riemann hypothesis is true up to 3$\\\\cdotp$1012', 'issue': '3', 'volume': '53', 'url': 'https://doi.org/10.1112%2Fblms.12460', 'DOI': '10.1112/blms.12460', 'itemType': 'journalArticle', 'accessDate': '2023-02-21'}\n",
      "{'publicationTitle': 'Indian Journal of Pure and Applied Mathematics', 'title': 'A note on series equivalent of the Riemann hypothesis', 'url': 'https://doi.org/10.1007%2Fs13226-022-00237-6', 'DOI': '10.1007/s13226-022-00237-6', 'itemType': 'journalArticle', 'accessDate': '2023-02-21'}\n",
      "{'publicationTitle': 'Reports on Progress in Physics', 'title': 'Will a physicist prove the Riemann hypothesis?', 'issue': '3', 'volume': '83', 'url': 'https://doi.org/10.1088%2F1361-6633%2Fab3de7', 'DOI': '10.1088/1361-6633/ab3de7', 'itemType': 'journalArticle', 'accessDate': '2023-02-21'}\n"
     ]
    }
   ],
   "source": [
    "citeObj.make_zot_template_from_bib()"
   ]
  },
  {
   "cell_type": "code",
   "execution_count": null,
   "id": "128e516c",
   "metadata": {},
   "outputs": [],
   "source": []
  },
  {
   "cell_type": "code",
   "execution_count": null,
   "id": "814da53b",
   "metadata": {},
   "outputs": [],
   "source": []
  },
  {
   "attachments": {},
   "cell_type": "markdown",
   "id": "415d0152",
   "metadata": {},
   "source": [
    "## scratch"
   ]
  },
  {
   "cell_type": "code",
   "execution_count": null,
   "id": "40c758cf",
   "metadata": {},
   "outputs": [
    {
     "name": "stdout",
     "output_type": "stream",
     "text": [
      "The plural of `anecdote' can be `data': statistical analysis of viewing distances in reports of unidentified large marine animals 1758–2000\n"
     ]
    }
   ],
   "source": [
    "latex2text = LatexNodes2Text()\n",
    "cleaned = latex2text.latex_to_text(citeObj.bib_dict[\"title\"])\n",
    "\n",
    "print(cleaned)"
   ]
  },
  {
   "cell_type": "code",
   "execution_count": null,
   "id": "a585ed37",
   "metadata": {},
   "outputs": [
    {
     "name": "stdout",
     "output_type": "stream",
     "text": [
      "The plural of `anecdote' can be `data': statistical analysis of viewing distances in reports of unidentified large marine animals 1758{\\textendash}2000\n",
      "\n",
      "\n",
      "The plural of `anecdote' can be `data': statistical analysis of viewing distances in reports of unidentified large marine animals 1758{\\textendash}2000\n",
      "\n",
      "\n",
      "The plural of `anecdote' can be `data': statistical analysis of viewing distances in reports of unidentified large marine animals 1758{\\textendash}2000\n",
      "The plural of `anecdote' can be `data': statistical analysis of viewing distances in reports of unidentified large marine animals 1758{\\textendash}2000\n"
     ]
    }
   ],
   "source": [
    "# coding=utf8\n",
    "# the above tag defines encoding for this document and is for Python 2.x compatibility\n",
    "\n",
    "\n",
    "regex = r\"(\\$+)(?:(?!\\1)[\\s\\S])*\\1\"\n",
    "\n",
    "test_str = citeObj.bib_dict[\"title\"]\n",
    "\n",
    "subst = \"\"\n",
    "\n",
    "# You can manually specify the number of replacements by changing the 4th argument\n",
    "# result = re.sub(regex, subst, test_str, 0, re.MULTILINE)\n",
    "result = test_str\n",
    "result = result.replace(r\"$\\less$\", \"<\")\n",
    "result = result.replace(r\"$\\greater$\", \">\")\n",
    "# result = re.sub(r\"<(.*?>)(.*)</\\1\", \"\", result)\n",
    "\n",
    "if result:\n",
    "    print(result)\n",
    "\n",
    "print(\"\\n\")\n",
    "result = re.sub(r\"<(.*?>)(.*)</\\1\", \"\", result)\n",
    "print(result)\n",
    "print(\"\\n\")\n",
    "result = re.sub(r\"<mml:math (.*)>(.*)</mml:math>\", \"\", result)\n",
    "print(result)\n",
    "\n",
    "# Convert multiline string to single line\n",
    "result = [line.strip() for line in result.splitlines()]\n",
    "# join results and if not first item wrap in ()\n",
    "result = \" \".join(result) if len(result) > 1 else result[0]\n",
    "print(result)\n",
    "\n",
    "# Note: for Python 2.7 compatibility, use ur\"\" to prefix the regex and u\"\" to prefix the test string and substitution."
   ]
  },
  {
   "cell_type": "code",
   "execution_count": null,
   "id": "7fb57a2c-ed14-422f-b99e-c24b256bd2b0",
   "metadata": {},
   "outputs": [
    {
     "name": "stdout",
     "output_type": "stream",
     "text": [
      "Number of items retreived from your library:0\n",
      "Updating your cloud library...\n",
      "Done! I hope this made things more readable.\n"
     ]
    },
    {
     "data": {
      "text/plain": [
       "0"
      ]
     },
     "execution_count": 168,
     "metadata": {},
     "output_type": "execute_result"
    }
   ],
   "source": [
    "# Clean Ugly Raw LaText (as Much as Possible)\n",
    "citeObj.cleanZot(\n",
    "    ZOT_ID=ZOT_ID, ZOT_KEY=ZOT_KEY, SEARCH_TERM=\"unidentified anomalous phenom*\"\n",
    ")  # Search is optional - filters the Zotero items considered"
   ]
  },
  {
   "cell_type": "code",
   "execution_count": null,
   "id": "11974f98-b792-4f56-bcc1-bf51b4be0293",
   "metadata": {
    "scrolled": true,
    "tags": []
   },
   "outputs": [
    {
     "name": "stdout",
     "output_type": "stream",
     "text": [
      "Number of items retreived from your library:18\n",
      "Processing number: 1\n",
      "Processing number: 2\n",
      "Processing number: 3\n",
      "Processing number: 4\n",
      "Processing number: 5\n",
      "Processing number: 6\n",
      "Processing number: 7\n",
      "Processing number: 8\n",
      "Processing number: 9\n",
      "Processing number: 10\n",
      "Processing number: 11\n",
      "Processing number: 12\n",
      "Processing number: 13\n",
      "Processing number: 14\n",
      "Processing number: 15\n",
      "Processing number: 16\n",
      "Processing number: 17\n",
      "Processing number: 18\n"
     ]
    },
    {
     "data": {
      "text/plain": [
       "0"
      ]
     },
     "execution_count": 169,
     "metadata": {},
     "output_type": "execute_result"
    }
   ],
   "source": [
    "# Check Arxiv for Free PDFs of Papers and Attach / Upload Them To Zotero\n",
    "citeObj.arxivDownload()"
   ]
  },
  {
   "cell_type": "code",
   "execution_count": null,
   "id": "1085a514-df92-4f82-bf6b-bc6fc6da1ef1",
   "metadata": {},
   "outputs": [],
   "source": []
  }
 ],
 "metadata": {
  "kernelspec": {
   "display_name": "pyserpzotero",
   "language": "python",
   "name": "python3"
  },
  "language_info": {
   "codemirror_mode": {
    "name": "ipython",
    "version": 3
   },
   "file_extension": ".py",
   "mimetype": "text/x-python",
   "name": "python",
   "nbconvert_exporter": "python",
   "pygments_lexer": "ipython3",
   "version": "3.11.0"
  },
  "vscode": {
   "interpreter": {
    "hash": "32e30f83a52d50fbdbbd680052f9bd5c2c76b17249bcc6130aee9b01f9b6c18b"
   }
  }
 },
 "nbformat": 4,
 "nbformat_minor": 5
}
